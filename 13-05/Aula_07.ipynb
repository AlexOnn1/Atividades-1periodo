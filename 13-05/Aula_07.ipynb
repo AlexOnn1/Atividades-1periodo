{
  "nbformat": 4,
  "nbformat_minor": 0,
  "metadata": {
    "colab": {
      "provenance": []
    },
    "kernelspec": {
      "name": "python3",
      "display_name": "Python 3"
    },
    "language_info": {
      "name": "python"
    }
  },
  "cells": [
    {
      "cell_type": "markdown",
      "source": [
        "## <center></center>\n",
        "## <center>Introdução à Lógica de Programação</center>\n",
        "---\n",
        "## <center>Aula 7. Array</center>\n",
        "##### <center>Instrutor: <a href=\"https://www.linkedin.com/in/sandeisonfernandes/\" target=\"_blank\">Sandeison Silva Fernandes</a></center>"
      ],
      "metadata": {
        "id": "jyoCpkFzppGR"
      }
    },
    {
      "cell_type": "markdown",
      "source": [
        "##O que é um Array?\n",
        "\n",
        "Um array é uma variável especial que pode conter mais de um valor por vez.\n",
        "\n",
        "Se você tiver uma lista de itens (uma lista de nomes de carros, por exemplo), armazenar os carros em variáveis ​​únicas pode ser assim:\n",
        "\n",
        "car1 = \"Ford\"\n",
        "\n",
        "car2 = \"Volvo\"\n",
        "\n",
        "car3 = \"BMW\"\n",
        "\n",
        "\n",
        "\n",
        "Mas e se você quiser percorrer os carros e encontrar um específico? E se você não tivesse 3 carros, mas 300?\n",
        "\n",
        "A solução é uma matriz!\n",
        "\n",
        "Uma matriz pode conter muitos valores sob um único nome, e você pode acessar os valores consultando um número de índice.\n",
        "\n",
        "Exemplo:\n",
        "\n",
        "Obtenha o valor do primeiro item da matriz:\n",
        "\n",
        "cars = [\"Ford\", \"Volvo\", \"BMW\"]\n",
        "\n",
        "x = cars[0]\n",
        "\n",
        "print(x)\n",
        "\n",
        "Exemplo:\n",
        "\n",
        "Modifique o valor do primeiro item da matriz:\n",
        "\n",
        "cars[0] = \"Toyota\""
      ],
      "metadata": {
        "id": "_ZyUsByVp1iq"
      }
    },
    {
      "cell_type": "code",
      "execution_count": null,
      "metadata": {
        "id": "LWareLTHYqSw"
      },
      "outputs": [],
      "source": []
    },
    {
      "cell_type": "markdown",
      "source": [
        "##Métodos de matriz\n",
        "\n",
        "\n",
        "| Metodo |  descrição |   \n",
        "|:- |--- |\n",
        "|append() | Adds an element at the end of the list  |\n",
        "|clear()| Removes all the elements from the list |\n",
        "|copy() | Returns a copy of the list  |\n",
        "|count()| Returns the number of elements with the specified value  |\n",
        "|extend()| Add the elements of a list (or any iterable), to the end of the current list  |\n",
        "|index()| Returns the index of the first element with the specified value |\n",
        "|insert()| Adds an element at the specified position  |\n",
        "|pop()| Removes the element at the specified position  |\n",
        "|remove()| Removes the first item with the specified value  |\n",
        "|sort()| Sorts the list|\n"
      ],
      "metadata": {
        "id": "V4GAtlIOlLiS"
      }
    },
    {
      "cell_type": "markdown",
      "source": [
        "##O comprimento de uma matriz\n",
        "\n",
        "Exemplo\n",
        "\n",
        "Retorna o número de elementos na cars matriz:\n",
        "\n"
      ],
      "metadata": {
        "id": "JKWj-DS5n6EP"
      }
    },
    {
      "cell_type": "code",
      "source": [
        "cars = [\"Ford\", \"Volvo\", \"BMW\"]\n",
        "\n",
        "x = len(cars)\n",
        "\n",
        "print(x)"
      ],
      "metadata": {
        "id": "PcWNxoJqoH94"
      },
      "execution_count": null,
      "outputs": []
    },
    {
      "cell_type": "markdown",
      "source": [
        "##Elementos de matriz utilizando loop\n",
        "Você pode usar o for inloop para percorrer todos os elementos de uma matriz.\n",
        "\n",
        "Exemplo\n",
        "\n",
        "Imprima cada item na carsmatriz:"
      ],
      "metadata": {
        "id": "Rc0oZY64oPWe"
      }
    },
    {
      "cell_type": "code",
      "source": [
        "cars = [\"Ford\", \"Volvo\", \"BMW\"]\n",
        "for x in cars:\n",
        "  print(x)"
      ],
      "metadata": {
        "id": "QSlmDV4UoZWQ"
      },
      "execution_count": null,
      "outputs": []
    },
    {
      "cell_type": "markdown",
      "source": [
        "#Adicionando elementos de matriz\n",
        "Você pode usar o append()método para adicionar um elemento a uma matriz.\n",
        "\n",
        "Exemplo\n",
        "\n",
        "Adicione mais um elemento à carsmatriz:"
      ],
      "metadata": {
        "id": "MObnoUl2okxh"
      }
    },
    {
      "cell_type": "markdown",
      "source": [
        "cars = [\"Ford\", \"Volvo\", \"BMW\"]\n",
        "\n",
        "cars.append(\"Honda\")\n",
        "\n",
        "print(cars)\n"
      ],
      "metadata": {
        "id": "V-a3HYNOor-D"
      }
    },
    {
      "cell_type": "markdown",
      "source": [
        "##Removendo elementos do array\n",
        "\n",
        "Você pode usar o pop() método para remover um elemento do array.\n",
        "\n",
        "Exemplo\n",
        "\n",
        "Exclua o segundo elemento da carsmatriz:"
      ],
      "metadata": {
        "id": "9DT3w-XQowa8"
      }
    },
    {
      "cell_type": "code",
      "source": [
        "cars = [\"Ford\", \"Volvo\", \"BMW\"]\n",
        "\n",
        "cars.pop(1)\n",
        "\n",
        "print(cars)\n"
      ],
      "metadata": {
        "id": "IJfR8Cj2o6vH"
      },
      "execution_count": null,
      "outputs": []
    },
    {
      "cell_type": "markdown",
      "source": [
        "Você também pode usar o remove() método para remover um elemento do array.\n",
        "\n",
        "Exemplo\n",
        "\n",
        "Exclua o elemento que possui o valor \"Volvo\":"
      ],
      "metadata": {
        "id": "tDwLdLxoo-mC"
      }
    },
    {
      "cell_type": "code",
      "source": [
        "cars = [\"Ford\", \"Volvo\", \"BMW\"]\n",
        "\n",
        "cars.remove(\"Volvo\")\n",
        "\n",
        "print(cars)\n"
      ],
      "metadata": {
        "id": "B_aYz3pipEW0"
      },
      "execution_count": null,
      "outputs": []
    }
  ]
}